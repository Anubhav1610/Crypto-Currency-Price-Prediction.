{
 "cells": [
  {
   "cell_type": "markdown",
   "metadata": {},
   "source": [
    "**Importing the required libraries**"
   ]
  },
  {
   "cell_type": "code",
   "execution_count": 1,
   "metadata": {
    "scrolled": true
   },
   "outputs": [],
   "source": [
    "import numpy as np\n",
    "import pandas as pd\n",
    "import matplotlib.pyplot as plt\n",
    "from sklearn.model_selection import train_test_split as tts\n",
    "from sklearn.svm import SVR"
   ]
  },
  {
   "cell_type": "markdown",
   "metadata": {},
   "source": [
    "**Reading the BTC.csv file which contains the data from April 29, 2013 to November 06, 2020. The data is scrapped from https://coinmarketcap.com/currencies/bitcoin/historical-data/?start=20130429&end=20201107 using Instant Data Scrapper(a free extension which can be used in a browser to easily scrap data from a website) https://chrome.google.com/webstore/detail/instant-data-scraper/ofaokhiedipichpaobibbnahnkdoiiah.**"
   ]
  },
  {
   "cell_type": "code",
   "execution_count": 2,
   "metadata": {},
   "outputs": [
    {
     "name": "stdout",
     "output_type": "stream",
     "text": [
      "Enter 1 for Bitcoin\n",
      "Enter 2 for Ethereum\n",
      "Enter 3 for Bitcoin Cash\n",
      "Enter 4 for Litecoin\n",
      "Enter 5 for Binance Coin\n",
      "Enter 6 for ChainLink\n",
      "Enter Choice: 6\n"
     ]
    },
    {
     "data": {
      "text/html": [
       "<div>\n",
       "<style scoped>\n",
       "    .dataframe tbody tr th:only-of-type {\n",
       "        vertical-align: middle;\n",
       "    }\n",
       "\n",
       "    .dataframe tbody tr th {\n",
       "        vertical-align: top;\n",
       "    }\n",
       "\n",
       "    .dataframe thead th {\n",
       "        text-align: right;\n",
       "    }\n",
       "</style>\n",
       "<table border=\"1\" class=\"dataframe\">\n",
       "  <thead>\n",
       "    <tr style=\"text-align: right;\">\n",
       "      <th></th>\n",
       "      <th>cmc-table__cell</th>\n",
       "      <th>cmc-table__cell 2</th>\n",
       "      <th>cmc-table__cell 3</th>\n",
       "      <th>cmc-table__cell 4</th>\n",
       "      <th>cmc-table__cell 5</th>\n",
       "      <th>cmc-table__cell 6</th>\n",
       "      <th>cmc-table__cell 7</th>\n",
       "    </tr>\n",
       "  </thead>\n",
       "  <tbody>\n",
       "    <tr>\n",
       "      <th>1147</th>\n",
       "      <td>Sep 24, 2017</td>\n",
       "      <td>0.131110</td>\n",
       "      <td>0.190250</td>\n",
       "      <td>0.130275</td>\n",
       "      <td>0.170278</td>\n",
       "      <td>1,025,740</td>\n",
       "      <td>59,597,300</td>\n",
       "    </tr>\n",
       "    <tr>\n",
       "      <th>1148</th>\n",
       "      <td>Sep 23, 2017</td>\n",
       "      <td>0.149562</td>\n",
       "      <td>0.157440</td>\n",
       "      <td>0.126297</td>\n",
       "      <td>0.131129</td>\n",
       "      <td>1,186,670</td>\n",
       "      <td>45,895,150</td>\n",
       "    </tr>\n",
       "    <tr>\n",
       "      <th>1149</th>\n",
       "      <td>Sep 22, 2017</td>\n",
       "      <td>0.169826</td>\n",
       "      <td>0.181675</td>\n",
       "      <td>0.139869</td>\n",
       "      <td>0.150503</td>\n",
       "      <td>1,423,220</td>\n",
       "      <td>52,676,050</td>\n",
       "    </tr>\n",
       "    <tr>\n",
       "      <th>1150</th>\n",
       "      <td>Sep 21, 2017</td>\n",
       "      <td>0.189132</td>\n",
       "      <td>0.207892</td>\n",
       "      <td>0.155292</td>\n",
       "      <td>0.169680</td>\n",
       "      <td>2,126,270</td>\n",
       "      <td>59,388,000</td>\n",
       "    </tr>\n",
       "    <tr>\n",
       "      <th>1151</th>\n",
       "      <td>Sep 20, 2017</td>\n",
       "      <td>0.156494</td>\n",
       "      <td>0.189448</td>\n",
       "      <td>0.152489</td>\n",
       "      <td>0.189165</td>\n",
       "      <td>2,718,640</td>\n",
       "      <td>66,207,750</td>\n",
       "    </tr>\n",
       "  </tbody>\n",
       "</table>\n",
       "</div>"
      ],
      "text/plain": [
       "     cmc-table__cell  cmc-table__cell 2  cmc-table__cell 3  cmc-table__cell 4  \\\n",
       "1147    Sep 24, 2017           0.131110           0.190250           0.130275   \n",
       "1148    Sep 23, 2017           0.149562           0.157440           0.126297   \n",
       "1149    Sep 22, 2017           0.169826           0.181675           0.139869   \n",
       "1150    Sep 21, 2017           0.189132           0.207892           0.155292   \n",
       "1151    Sep 20, 2017           0.156494           0.189448           0.152489   \n",
       "\n",
       "      cmc-table__cell 5 cmc-table__cell 6 cmc-table__cell 7  \n",
       "1147           0.170278         1,025,740        59,597,300  \n",
       "1148           0.131129         1,186,670        45,895,150  \n",
       "1149           0.150503         1,423,220        52,676,050  \n",
       "1150           0.169680         2,126,270        59,388,000  \n",
       "1151           0.189165         2,718,640        66,207,750  "
      ]
     },
     "execution_count": 2,
     "metadata": {},
     "output_type": "execute_result"
    }
   ],
   "source": [
    "print(\"Enter 1 for Bitcoin\")\n",
    "print(\"Enter 2 for Ethereum\")\n",
    "print(\"Enter 3 for Bitcoin Cash\")\n",
    "print(\"Enter 4 for Litecoin\")\n",
    "print(\"Enter 5 for Binance Coin\")\n",
    "print(\"Enter 6 for ChainLink\")\n",
    "\n",
    "choice = int(input(\"Enter Choice: \"))\n",
    "\n",
    "if choice == 1:\n",
    "    df = pd.read_csv(\"Bitcoin.csv\")\n",
    "if choice == 2:\n",
    "    df = pd.read_csv(\"Ethereum.csv\")\n",
    "if choice == 3:\n",
    "    df = pd.read_csv(\"Bitcoin Cash.csv\")\n",
    "if choice == 4:\n",
    "    df = pd.read_csv(\"Litecoin.csv\")\n",
    "if choice == 5:\n",
    "    df = pd.read_csv(\"Binance Coin.csv\")\n",
    "if choice == 6:\n",
    "    df = pd.read_csv(\"ChainLink.csv\")\n",
    "\n",
    "df.tail()"
   ]
  },
  {
   "cell_type": "markdown",
   "metadata": {},
   "source": [
    "**Renaming the columns as given in the website https://coinmarketcap.com/currencies/bitcoin/historical-data/?start=20130429&end=20201107.**"
   ]
  },
  {
   "cell_type": "code",
   "execution_count": 3,
   "metadata": {},
   "outputs": [
    {
     "data": {
      "text/html": [
       "<div>\n",
       "<style scoped>\n",
       "    .dataframe tbody tr th:only-of-type {\n",
       "        vertical-align: middle;\n",
       "    }\n",
       "\n",
       "    .dataframe tbody tr th {\n",
       "        vertical-align: top;\n",
       "    }\n",
       "\n",
       "    .dataframe thead th {\n",
       "        text-align: right;\n",
       "    }\n",
       "</style>\n",
       "<table border=\"1\" class=\"dataframe\">\n",
       "  <thead>\n",
       "    <tr style=\"text-align: right;\">\n",
       "      <th></th>\n",
       "      <th>Date</th>\n",
       "      <th>Open</th>\n",
       "      <th>High</th>\n",
       "      <th>Low</th>\n",
       "      <th>Closing Price</th>\n",
       "      <th>Volume</th>\n",
       "      <th>Market Cap</th>\n",
       "    </tr>\n",
       "  </thead>\n",
       "  <tbody>\n",
       "    <tr>\n",
       "      <th>0</th>\n",
       "      <td>Nov 14, 2020</td>\n",
       "      <td>12.89</td>\n",
       "      <td>12.91</td>\n",
       "      <td>12.39</td>\n",
       "      <td>12.58</td>\n",
       "      <td>997,198,275</td>\n",
       "      <td>4,936,577,002</td>\n",
       "    </tr>\n",
       "    <tr>\n",
       "      <th>1</th>\n",
       "      <td>Nov 13, 2020</td>\n",
       "      <td>12.42</td>\n",
       "      <td>12.99</td>\n",
       "      <td>12.34</td>\n",
       "      <td>12.89</td>\n",
       "      <td>1,306,004,087</td>\n",
       "      <td>5,045,766,668</td>\n",
       "    </tr>\n",
       "    <tr>\n",
       "      <th>2</th>\n",
       "      <td>Nov 12, 2020</td>\n",
       "      <td>12.81</td>\n",
       "      <td>13.08</td>\n",
       "      <td>12.31</td>\n",
       "      <td>12.42</td>\n",
       "      <td>1,400,960,180</td>\n",
       "      <td>4,863,810,509</td>\n",
       "    </tr>\n",
       "    <tr>\n",
       "      <th>3</th>\n",
       "      <td>Nov 11, 2020</td>\n",
       "      <td>13.00</td>\n",
       "      <td>13.39</td>\n",
       "      <td>12.79</td>\n",
       "      <td>12.81</td>\n",
       "      <td>1,517,819,145</td>\n",
       "      <td>5,014,273,699</td>\n",
       "    </tr>\n",
       "    <tr>\n",
       "      <th>4</th>\n",
       "      <td>Nov 10, 2020</td>\n",
       "      <td>12.52</td>\n",
       "      <td>13.24</td>\n",
       "      <td>12.35</td>\n",
       "      <td>13.00</td>\n",
       "      <td>1,724,813,657</td>\n",
       "      <td>5,090,980,020</td>\n",
       "    </tr>\n",
       "  </tbody>\n",
       "</table>\n",
       "</div>"
      ],
      "text/plain": [
       "           Date   Open   High    Low  Closing Price         Volume  \\\n",
       "0  Nov 14, 2020  12.89  12.91  12.39          12.58    997,198,275   \n",
       "1  Nov 13, 2020  12.42  12.99  12.34          12.89  1,306,004,087   \n",
       "2  Nov 12, 2020  12.81  13.08  12.31          12.42  1,400,960,180   \n",
       "3  Nov 11, 2020  13.00  13.39  12.79          12.81  1,517,819,145   \n",
       "4  Nov 10, 2020  12.52  13.24  12.35          13.00  1,724,813,657   \n",
       "\n",
       "      Market Cap  \n",
       "0  4,936,577,002  \n",
       "1  5,045,766,668  \n",
       "2  4,863,810,509  \n",
       "3  5,014,273,699  \n",
       "4  5,090,980,020  "
      ]
     },
     "execution_count": 3,
     "metadata": {},
     "output_type": "execute_result"
    }
   ],
   "source": [
    "df.columns = ['Date', 'Open', 'High', 'Low', 'Closing Price', 'Volume', 'Market Cap']\n",
    "df.head()"
   ]
  },
  {
   "cell_type": "markdown",
   "metadata": {},
   "source": [
    "**Removing the unwanted columns**"
   ]
  },
  {
   "cell_type": "code",
   "execution_count": 4,
   "metadata": {},
   "outputs": [
    {
     "data": {
      "text/html": [
       "<div>\n",
       "<style scoped>\n",
       "    .dataframe tbody tr th:only-of-type {\n",
       "        vertical-align: middle;\n",
       "    }\n",
       "\n",
       "    .dataframe tbody tr th {\n",
       "        vertical-align: top;\n",
       "    }\n",
       "\n",
       "    .dataframe thead th {\n",
       "        text-align: right;\n",
       "    }\n",
       "</style>\n",
       "<table border=\"1\" class=\"dataframe\">\n",
       "  <thead>\n",
       "    <tr style=\"text-align: right;\">\n",
       "      <th></th>\n",
       "      <th>Closing Price</th>\n",
       "    </tr>\n",
       "  </thead>\n",
       "  <tbody>\n",
       "    <tr>\n",
       "      <th>0</th>\n",
       "      <td>12.58</td>\n",
       "    </tr>\n",
       "    <tr>\n",
       "      <th>1</th>\n",
       "      <td>12.89</td>\n",
       "    </tr>\n",
       "    <tr>\n",
       "      <th>2</th>\n",
       "      <td>12.42</td>\n",
       "    </tr>\n",
       "    <tr>\n",
       "      <th>3</th>\n",
       "      <td>12.81</td>\n",
       "    </tr>\n",
       "    <tr>\n",
       "      <th>4</th>\n",
       "      <td>13.00</td>\n",
       "    </tr>\n",
       "  </tbody>\n",
       "</table>\n",
       "</div>"
      ],
      "text/plain": [
       "   Closing Price\n",
       "0          12.58\n",
       "1          12.89\n",
       "2          12.42\n",
       "3          12.81\n",
       "4          13.00"
      ]
     },
     "execution_count": 4,
     "metadata": {},
     "output_type": "execute_result"
    }
   ],
   "source": [
    "df = df.filter(['Closing Price'])\n",
    "df.head()"
   ]
  },
  {
   "cell_type": "markdown",
   "metadata": {},
   "source": [
    "**Reversing the Column**"
   ]
  },
  {
   "cell_type": "code",
   "execution_count": 5,
   "metadata": {},
   "outputs": [
    {
     "data": {
      "text/html": [
       "<div>\n",
       "<style scoped>\n",
       "    .dataframe tbody tr th:only-of-type {\n",
       "        vertical-align: middle;\n",
       "    }\n",
       "\n",
       "    .dataframe tbody tr th {\n",
       "        vertical-align: top;\n",
       "    }\n",
       "\n",
       "    .dataframe thead th {\n",
       "        text-align: right;\n",
       "    }\n",
       "</style>\n",
       "<table border=\"1\" class=\"dataframe\">\n",
       "  <thead>\n",
       "    <tr style=\"text-align: right;\">\n",
       "      <th></th>\n",
       "      <th>Closing Price</th>\n",
       "    </tr>\n",
       "  </thead>\n",
       "  <tbody>\n",
       "    <tr>\n",
       "      <th>0</th>\n",
       "      <td>0.189165</td>\n",
       "    </tr>\n",
       "    <tr>\n",
       "      <th>1</th>\n",
       "      <td>0.169680</td>\n",
       "    </tr>\n",
       "    <tr>\n",
       "      <th>2</th>\n",
       "      <td>0.150503</td>\n",
       "    </tr>\n",
       "    <tr>\n",
       "      <th>3</th>\n",
       "      <td>0.131129</td>\n",
       "    </tr>\n",
       "    <tr>\n",
       "      <th>4</th>\n",
       "      <td>0.170278</td>\n",
       "    </tr>\n",
       "  </tbody>\n",
       "</table>\n",
       "</div>"
      ],
      "text/plain": [
       "   Closing Price\n",
       "0       0.189165\n",
       "1       0.169680\n",
       "2       0.150503\n",
       "3       0.131129\n",
       "4       0.170278"
      ]
     },
     "execution_count": 5,
     "metadata": {},
     "output_type": "execute_result"
    }
   ],
   "source": [
    "df[\"Closing Price\"] = df[\"Closing Price\"].values[::-1]\n",
    "df.head()"
   ]
  },
  {
   "cell_type": "markdown",
   "metadata": {},
   "source": [
    "**If Bitcoin, Ethereum, Bitcoin Cash or any other cryptocurrency whose price is more then 999$. The \",\" needs to be removed as the data scrapped is in the form of string data-type and if \",\" isn't removed then it's not possible to convert it to float data-type without which no calculations can be made.**"
   ]
  },
  {
   "cell_type": "code",
   "execution_count": 6,
   "metadata": {},
   "outputs": [],
   "source": [
    "if choice == 1 or choice == 2 or choice == 3: \n",
    "    df['Closing Price'] = df['Closing Price'].str.replace(r',', '')\n",
    "    df['Closing Price'] = pd.to_numeric(df['Closing Price'])\n",
    "else:\n",
    "    pass"
   ]
  },
  {
   "cell_type": "markdown",
   "metadata": {},
   "source": [
    "**Input the number of days for which the price is to be predicted**"
   ]
  },
  {
   "cell_type": "code",
   "execution_count": 7,
   "metadata": {},
   "outputs": [
    {
     "name": "stdout",
     "output_type": "stream",
     "text": [
      "10\n"
     ]
    },
    {
     "data": {
      "text/html": [
       "<div>\n",
       "<style scoped>\n",
       "    .dataframe tbody tr th:only-of-type {\n",
       "        vertical-align: middle;\n",
       "    }\n",
       "\n",
       "    .dataframe tbody tr th {\n",
       "        vertical-align: top;\n",
       "    }\n",
       "\n",
       "    .dataframe thead th {\n",
       "        text-align: right;\n",
       "    }\n",
       "</style>\n",
       "<table border=\"1\" class=\"dataframe\">\n",
       "  <thead>\n",
       "    <tr style=\"text-align: right;\">\n",
       "      <th></th>\n",
       "      <th>Closing Price</th>\n",
       "      <th>Prediction</th>\n",
       "    </tr>\n",
       "  </thead>\n",
       "  <tbody>\n",
       "    <tr>\n",
       "      <th>0</th>\n",
       "      <td>0.189165</td>\n",
       "      <td>0.451364</td>\n",
       "    </tr>\n",
       "    <tr>\n",
       "      <th>1</th>\n",
       "      <td>0.169680</td>\n",
       "      <td>0.436647</td>\n",
       "    </tr>\n",
       "    <tr>\n",
       "      <th>2</th>\n",
       "      <td>0.150503</td>\n",
       "      <td>0.356767</td>\n",
       "    </tr>\n",
       "    <tr>\n",
       "      <th>3</th>\n",
       "      <td>0.131129</td>\n",
       "      <td>0.345535</td>\n",
       "    </tr>\n",
       "    <tr>\n",
       "      <th>4</th>\n",
       "      <td>0.170278</td>\n",
       "      <td>0.397361</td>\n",
       "    </tr>\n",
       "  </tbody>\n",
       "</table>\n",
       "</div>"
      ],
      "text/plain": [
       "   Closing Price  Prediction\n",
       "0       0.189165    0.451364\n",
       "1       0.169680    0.436647\n",
       "2       0.150503    0.356767\n",
       "3       0.131129    0.345535\n",
       "4       0.170278    0.397361"
      ]
     },
     "execution_count": 7,
     "metadata": {},
     "output_type": "execute_result"
    }
   ],
   "source": [
    "prediction_days = int(input())\n",
    "\n",
    "df['Prediction'] = df[['Closing Price']].shift(-prediction_days)\n",
    "\n",
    "df.head()"
   ]
  },
  {
   "cell_type": "markdown",
   "metadata": {},
   "source": [
    "**From the last the number of prediction_days is null as it is shifted up by prediction_days.** "
   ]
  },
  {
   "cell_type": "code",
   "execution_count": 8,
   "metadata": {},
   "outputs": [
    {
     "data": {
      "text/html": [
       "<div>\n",
       "<style scoped>\n",
       "    .dataframe tbody tr th:only-of-type {\n",
       "        vertical-align: middle;\n",
       "    }\n",
       "\n",
       "    .dataframe tbody tr th {\n",
       "        vertical-align: top;\n",
       "    }\n",
       "\n",
       "    .dataframe thead th {\n",
       "        text-align: right;\n",
       "    }\n",
       "</style>\n",
       "<table border=\"1\" class=\"dataframe\">\n",
       "  <thead>\n",
       "    <tr style=\"text-align: right;\">\n",
       "      <th></th>\n",
       "      <th>Closing Price</th>\n",
       "      <th>Prediction</th>\n",
       "    </tr>\n",
       "  </thead>\n",
       "  <tbody>\n",
       "    <tr>\n",
       "      <th>1147</th>\n",
       "      <td>13.00</td>\n",
       "      <td>NaN</td>\n",
       "    </tr>\n",
       "    <tr>\n",
       "      <th>1148</th>\n",
       "      <td>12.81</td>\n",
       "      <td>NaN</td>\n",
       "    </tr>\n",
       "    <tr>\n",
       "      <th>1149</th>\n",
       "      <td>12.42</td>\n",
       "      <td>NaN</td>\n",
       "    </tr>\n",
       "    <tr>\n",
       "      <th>1150</th>\n",
       "      <td>12.89</td>\n",
       "      <td>NaN</td>\n",
       "    </tr>\n",
       "    <tr>\n",
       "      <th>1151</th>\n",
       "      <td>12.58</td>\n",
       "      <td>NaN</td>\n",
       "    </tr>\n",
       "  </tbody>\n",
       "</table>\n",
       "</div>"
      ],
      "text/plain": [
       "      Closing Price  Prediction\n",
       "1147          13.00         NaN\n",
       "1148          12.81         NaN\n",
       "1149          12.42         NaN\n",
       "1150          12.89         NaN\n",
       "1151          12.58         NaN"
      ]
     },
     "execution_count": 8,
     "metadata": {},
     "output_type": "execute_result"
    }
   ],
   "source": [
    "df.tail()"
   ]
  },
  {
   "cell_type": "code",
   "execution_count": 9,
   "metadata": {},
   "outputs": [
    {
     "name": "stdout",
     "output_type": "stream",
     "text": [
      "<class 'pandas.core.frame.DataFrame'>\n",
      "RangeIndex: 1152 entries, 0 to 1151\n",
      "Data columns (total 2 columns):\n",
      " #   Column         Non-Null Count  Dtype  \n",
      "---  ------         --------------  -----  \n",
      " 0   Closing Price  1152 non-null   float64\n",
      " 1   Prediction     1142 non-null   float64\n",
      "dtypes: float64(2)\n",
      "memory usage: 18.1 KB\n"
     ]
    }
   ],
   "source": [
    "df.info()"
   ]
  },
  {
   "cell_type": "code",
   "execution_count": 10,
   "metadata": {},
   "outputs": [],
   "source": [
    "df['Closing Price'] = pd.to_numeric(df['Closing Price'])"
   ]
  },
  {
   "cell_type": "markdown",
   "metadata": {},
   "source": [
    "**Creating independent dataset**"
   ]
  },
  {
   "cell_type": "markdown",
   "metadata": {},
   "source": [
    "**Converting the dataframe to numpy array and drop the prediction column.**"
   ]
  },
  {
   "cell_type": "code",
   "execution_count": 11,
   "metadata": {},
   "outputs": [
    {
     "name": "stdout",
     "output_type": "stream",
     "text": [
      "[[ 0.189165]\n",
      " [ 0.16968 ]\n",
      " [ 0.150503]\n",
      " ...\n",
      " [10.8     ]\n",
      " [10.39    ]\n",
      " [10.47    ]]\n"
     ]
    }
   ],
   "source": [
    "\n",
    "X = np.array(df.drop(['Prediction'],1))\n",
    "X = X[:len(X)-prediction_days]\n",
    "print(X)"
   ]
  },
  {
   "cell_type": "markdown",
   "metadata": {},
   "source": [
    "**Creating dependent dataset**"
   ]
  },
  {
   "cell_type": "code",
   "execution_count": 12,
   "metadata": {},
   "outputs": [
    {
     "name": "stdout",
     "output_type": "stream",
     "text": [
      "[ 0.451364  0.436647  0.356767 ... 12.42     12.89     12.58    ]\n"
     ]
    }
   ],
   "source": [
    "Y = np.array(df[\"Prediction\"])\n",
    "Y = Y[:len(Y)-prediction_days]\n",
    "print(Y)"
   ]
  },
  {
   "cell_type": "markdown",
   "metadata": {},
   "source": [
    "**Split the data into 80% training and 20% testing**"
   ]
  },
  {
   "cell_type": "code",
   "execution_count": 13,
   "metadata": {},
   "outputs": [],
   "source": [
    "x_train, x_test, y_train, y_test = tts(X, Y, test_size = 0.2)"
   ]
  },
  {
   "cell_type": "code",
   "execution_count": 14,
   "metadata": {},
   "outputs": [
    {
     "name": "stdout",
     "output_type": "stream",
     "text": [
      "[[10.99]\n",
      " [12.12]\n",
      " [11.76]\n",
      " [12.66]\n",
      " [12.52]\n",
      " [13.  ]\n",
      " [12.81]\n",
      " [12.42]\n",
      " [12.89]\n",
      " [12.58]]\n"
     ]
    }
   ],
   "source": [
    "prediction_array = np.array(df.drop(['Prediction'],1))\n",
    "prediction_array = prediction_array[-prediction_days:]\n",
    "print(prediction_array)"
   ]
  },
  {
   "cell_type": "markdown",
   "metadata": {},
   "source": [
    "**Create and train the support vector machine (SVR - Suppport Vector Machine) using radial basis function(RBF)**"
   ]
  },
  {
   "cell_type": "code",
   "execution_count": 15,
   "metadata": {},
   "outputs": [
    {
     "data": {
      "text/plain": [
       "SVR(C=1000.0, gamma=1e-05)"
      ]
     },
     "execution_count": 15,
     "metadata": {},
     "output_type": "execute_result"
    }
   ],
   "source": [
    "rbf = SVR(kernel = 'rbf', C = 1e3, gamma = 0.00001)\n",
    "rbf.fit(x_train, y_train)"
   ]
  },
  {
   "cell_type": "markdown",
   "metadata": {},
   "source": [
    "**Testing the Model**"
   ]
  },
  {
   "cell_type": "code",
   "execution_count": 16,
   "metadata": {},
   "outputs": [
    {
     "name": "stdout",
     "output_type": "stream",
     "text": [
      "Accuracy 0.919614747241543\n"
     ]
    }
   ],
   "source": [
    "rbf_test = rbf.score(x_test, y_test)\n",
    "print(\"Accuracy\", rbf_test)"
   ]
  },
  {
   "cell_type": "markdown",
   "metadata": {},
   "source": [
    "**Predicted Values**"
   ]
  },
  {
   "cell_type": "code",
   "execution_count": 17,
   "metadata": {},
   "outputs": [
    {
     "name": "stdout",
     "output_type": "stream",
     "text": [
      "[ 4.50140825  0.49678312  2.44460004  0.32700776  0.49441929  4.37175628\n",
      "  4.01261421  0.2565029   0.45506984  0.32032384  3.51355202  0.38185995\n",
      "  2.80439023  0.36894056 18.63824808  0.44241279  0.52579361  0.30672146\n",
      "  2.79439799  2.53456093  0.53291791  0.25200959  7.71584586  2.53456093\n",
      "  4.53132503  3.31384601  0.54341245  4.44157142  0.21256081  3.85294613\n",
      "  0.37600783  0.23177593  4.06250429  0.43410689  0.22655014  2.73444221\n",
      " 12.34675164 10.69818542  3.0941167   0.57821456  0.57269005  2.71445607\n",
      "  1.83463497  0.7051379   1.02843349  0.37674611  2.33463588  0.69511067\n",
      "  0.51952163  3.79306284  2.86434135  2.70446283  4.10241421  0.59736083\n",
      "  2.01466598  0.26438442  0.28589778  2.75442792  0.51851703 15.99194401\n",
      "  0.45143581  0.23944525  0.38901829  0.32087483  0.2694878  10.72784018\n",
      "  0.324897    0.22994651  2.22465863  0.60119464  0.70739309  0.38267436\n",
      "  1.17423233  2.35463034  2.64450108  0.20029657  0.48858383  0.44552198\n",
      "  0.25593585  0.34636904  1.87464482  0.28199267  2.51457039  0.37007653\n",
      "  0.34153952  0.50107906  0.39247524  4.5213529   1.82463224  0.3242809\n",
      "  0.61498846  0.47883895  3.6233707   0.52588576  2.45459613  0.73364381\n",
      "  1.66457437  2.2346571   0.35139088  0.28694869  0.53273061  1.91465298\n",
      "  1.81462941  4.1123914   2.12466801  0.61782972  2.87433281  1.88464702\n",
      "  0.44108157  0.48552986  0.362309    0.68033953  0.27275579  0.2626302\n",
      "  0.2629067   2.21466005  0.29360577 12.7310803   2.64450108  0.24938272\n",
      "  4.1123914   2.21466005 11.20212108  0.44535269  2.04466782  8.767641\n",
      "  0.51410398  0.34876927  1.65456987  0.47024487  0.47106322  3.65331881\n",
      "  0.45258171  0.92178914  0.54696603  0.26123763  0.51974699  0.3528865\n",
      "  0.37793617  0.19043278 12.65226469  1.8546401   0.92169203  0.58964608\n",
      "  0.23553095  0.45302745  0.39371637  0.4101865   8.11293905  0.36780258\n",
      "  0.46628136  3.8329855   2.74443512  2.46459212  0.27821177  2.39461796\n",
      "  2.30464338  0.24276944  0.53688518  4.7706198   0.25414153  0.81450167\n",
      "  0.35536585  5.73703987 10.05531827  8.64865136  2.67448245  1.16422279\n",
      "  1.05411125  0.21263395  0.37279225  3.35379088  0.4748975   0.3583611\n",
      "  1.61455081 13.0659245   0.46822255  2.09466874  2.0246667   0.34463298\n",
      "  7.11978559  2.66448877  0.49524864  0.54746481  2.60452438  0.4601803\n",
      "  1.91465298  0.47879588  3.49358349  0.20484421 12.39603893  0.32322803\n",
      "  1.37440169  0.53743104  3.6233707   1.87464482  0.25682048  7.19928907\n",
      "  6.12526234  0.45710421  2.75442792  7.43774659 10.78714541  0.50771273\n",
      " 11.51810212  0.4350655   1.8546401   0.37578444  2.21466005  0.29055524\n",
      "  0.25957056  0.39942915  2.34463317  0.25999334  0.30192682  2.83436629\n",
      "  0.457585    0.55200793  7.32846344 12.12983773  2.12466801  2.65449498\n",
      "  1.79462343  0.46706264  0.52840776  8.35108542  1.93465643  2.61451872\n",
      "  0.31998624]\n",
      "\n",
      "[ 4.85      0.65799   2.25      0.274727  0.507613  4.05      4.29\n",
      "  0.179697  0.432969  0.30539   2.2       0.36731   3.87      0.260662\n",
      " 15.25      0.273684  0.567669  0.386811  2.34      2.77      0.476025\n",
      "  0.338506  9.3       2.61      3.6       3.48      0.414927  3.91\n",
      "  0.218494  3.69      0.340509  0.213909  4.1       0.224644  0.236518\n",
      "  2.91     10.15      9.62      2.26      0.887731  0.481483  2.22\n",
      "  3.53      1.13      1.18      0.376913  2.28      0.46771   0.499498\n",
      "  3.84      4.03      2.82      4.38      0.40914   2.54      0.426878\n",
      "  0.372796  3.48      0.287584 16.47      0.497974  0.177539  0.481416\n",
      "  0.202932  0.200695 12.16      0.336085  0.30958   3.62      0.503457\n",
      "  1.05      0.262975  1.7       2.38      2.72      0.169761  0.436519\n",
      "  0.540335  0.293934  0.316489  2.19      0.204594  2.57      0.30394\n",
      "  0.380589  0.391713  0.491349  4.11      1.57      0.334983  0.329343\n",
      "  0.506979  2.83      0.41129   2.24      0.652742  1.67      2.32\n",
      "  0.276128  0.257547  0.564701  1.72      1.63      4.62      1.82\n",
      "  0.49535   3.98      1.8       0.491097  0.46611   0.329202  1.34\n",
      "  0.279981  0.328679  0.222559  2.77      0.424287  8.76      2.71\n",
      "  0.318274  2.25      2.4      13.        0.543031  1.86      9.65\n",
      "  0.503459  0.226759  1.76      0.57812   0.503996  2.73      0.26158\n",
      "  0.620146  0.445421  0.270225  1.38      0.29972   0.241828  0.17977\n",
      " 16.24      2.96      1.21      0.486123  0.284746  0.406105  0.362294\n",
      "  0.444364  7.43      0.32094   0.470638  3.77      2.24      2.18\n",
      "  0.434907  2.67      3.22      0.223969  0.577119  8.64      0.206735\n",
      "  0.425248  0.219072  8.28     16.71      7.66      2.09      0.88325\n",
      "  1.07      0.154972  0.437743  3.64      0.544724  0.303201  1.66\n",
      " 13.8       0.506697  1.99      2.28      0.482795 10.14      2.74\n",
      "  0.432997  0.509636  2.85      0.733563  1.74      0.424169  3.68\n",
      "  0.249942 10.99      0.394007  0.910969  0.342848  3.85      2.77\n",
      "  0.209849  7.87      8.07      0.227041  2.75     13.85     12.42\n",
      "  0.427421 12.81      0.49147   1.9       0.275062  2.51      0.319767\n",
      "  0.211167  0.206531  2.31      0.172059  0.334657  2.36      0.601552\n",
      "  0.570759  7.47     10.47      2.18      2.79      2.64      0.39962\n",
      "  0.823082  7.5       2.18      2.36      0.423946]\n"
     ]
    }
   ],
   "source": [
    "prediction = rbf.predict(x_test)\n",
    "print(prediction)\n",
    "\n",
    "print()\n",
    "\n",
    "print(y_test)"
   ]
  },
  {
   "cell_type": "markdown",
   "metadata": {},
   "source": [
    "**Print the prediction for next 'prediction_days' days.**"
   ]
  },
  {
   "cell_type": "code",
   "execution_count": 18,
   "metadata": {},
   "outputs": [
    {
     "name": "stdout",
     "output_type": "stream",
     "text": [
      "[10.97490749 12.09039014 11.73524218 12.62270603 12.48474541 12.95761427\n",
      " 12.77048402 12.38618181 12.84928324 12.54387546]\n",
      "\n",
      "      Closing Price  Prediction\n",
      "1142          10.99         NaN\n",
      "1143          12.12         NaN\n",
      "1144          11.76         NaN\n",
      "1145          12.66         NaN\n",
      "1146          12.52         NaN\n",
      "1147          13.00         NaN\n",
      "1148          12.81         NaN\n",
      "1149          12.42         NaN\n",
      "1150          12.89         NaN\n",
      "1151          12.58         NaN\n"
     ]
    }
   ],
   "source": [
    "prediction = rbf.predict(prediction_array)\n",
    "print(prediction)\n",
    "print()\n",
    "print(df.tail(prediction_days))"
   ]
  }
 ],
 "metadata": {
  "kernelspec": {
   "display_name": "Python 3",
   "language": "python",
   "name": "python3"
  },
  "language_info": {
   "codemirror_mode": {
    "name": "ipython",
    "version": 3
   },
   "file_extension": ".py",
   "mimetype": "text/x-python",
   "name": "python",
   "nbconvert_exporter": "python",
   "pygments_lexer": "ipython3",
   "version": "3.8.3"
  }
 },
 "nbformat": 4,
 "nbformat_minor": 4
}
